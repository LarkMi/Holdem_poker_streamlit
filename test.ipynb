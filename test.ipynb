{
 "cells": [
  {
   "cell_type": "code",
   "execution_count": null,
   "metadata": {},
   "outputs": [
    {
     "name": "stdout",
     "output_type": "stream",
     "text": [
      " * Serving Flask app 'poker_sever'\n"
     ]
    },
    {
     "name": "stdout",
     "output_type": "stream",
     "text": [
      " * Debug mode: off\n"
     ]
    },
    {
     "name": "stderr",
     "output_type": "stream",
     "text": [
      "WARNING: This is a development server. Do not use it in a production deployment. Use a production WSGI server instead.\n",
      " * Running on all addresses (0.0.0.0)\n",
      " * Running on http://127.0.0.1:5678\n",
      " * Running on http://192.168.31.46:5678\n",
      "Press CTRL+C to quit\n",
      "127.0.0.1 - - [08/Jan/2024 18:22:28] \"POST /login HTTP/1.1\" 200 -\n",
      "127.0.0.1 - - [08/Jan/2024 18:22:28] \"GET /room HTTP/1.1\" 200 -\n",
      "127.0.0.1 - - [08/Jan/2024 18:22:30] \"GET /room HTTP/1.1\" 200 -\n"
     ]
    }
   ],
   "source": [
    "from threading import Thread\n",
    "import asyncio\n",
    "import time\n",
    "from poker_sever import sever_run\n",
    "class test:\n",
    "    def __init__(self) -> None:\n",
    "        self.n = 0\n",
    "\n",
    "a = test()\n",
    "\n",
    "def th():\n",
    "    sever_run()\n",
    "t = Thread(target=sever_run)\n",
    "t.start()"
   ]
  },
  {
   "cell_type": "code",
   "execution_count": 19,
   "metadata": {},
   "outputs": [
    {
     "data": {
      "text/html": [
       "<div>\n",
       "<style scoped>\n",
       "    .dataframe tbody tr th:only-of-type {\n",
       "        vertical-align: middle;\n",
       "    }\n",
       "\n",
       "    .dataframe tbody tr th {\n",
       "        vertical-align: top;\n",
       "    }\n",
       "\n",
       "    .dataframe thead th {\n",
       "        text-align: right;\n",
       "    }\n",
       "</style>\n",
       "<table border=\"1\" class=\"dataframe\">\n",
       "  <thead>\n",
       "    <tr style=\"text-align: right;\">\n",
       "      <th></th>\n",
       "      <th>0</th>\n",
       "      <th>1</th>\n",
       "      <th>2</th>\n",
       "      <th>3</th>\n",
       "      <th>4</th>\n",
       "      <th>5</th>\n",
       "    </tr>\n",
       "  </thead>\n",
       "  <tbody>\n",
       "    <tr>\n",
       "      <th>0</th>\n",
       "      <td>1</td>\n",
       "      <td>1</td>\n",
       "      <td>1</td>\n",
       "      <td>1</td>\n",
       "      <td>1</td>\n",
       "      <td>1</td>\n",
       "    </tr>\n",
       "  </tbody>\n",
       "</table>\n",
       "</div>"
      ],
      "text/plain": [
       "   0  1  2  3  4  5\n",
       "0  1  1  1  1  1  1"
      ]
     },
     "execution_count": 19,
     "metadata": {},
     "output_type": "execute_result"
    }
   ],
   "source": [
    "import pandas as pd\n",
    "df = pd.DataFrame([[1]*6,[2]*6])\n",
    "df.head(1)"
   ]
  },
  {
   "cell_type": "code",
   "execution_count": 10,
   "metadata": {},
   "outputs": [
    {
     "data": {
      "text/html": [
       "<div>\n",
       "<style scoped>\n",
       "    .dataframe tbody tr th:only-of-type {\n",
       "        vertical-align: middle;\n",
       "    }\n",
       "\n",
       "    .dataframe tbody tr th {\n",
       "        vertical-align: top;\n",
       "    }\n",
       "\n",
       "    .dataframe thead th {\n",
       "        text-align: right;\n",
       "    }\n",
       "</style>\n",
       "<table border=\"1\" class=\"dataframe\">\n",
       "  <thead>\n",
       "    <tr style=\"text-align: right;\">\n",
       "      <th></th>\n",
       "      <th>0</th>\n",
       "      <th>1</th>\n",
       "      <th>2</th>\n",
       "      <th>3</th>\n",
       "      <th>4</th>\n",
       "      <th>5</th>\n",
       "    </tr>\n",
       "  </thead>\n",
       "  <tbody>\n",
       "    <tr>\n",
       "      <th>0</th>\n",
       "      <td>公共拍</td>\n",
       "      <td>公共拍</td>\n",
       "      <td>None</td>\n",
       "      <td>None</td>\n",
       "      <td>None</td>\n",
       "      <td>None</td>\n",
       "    </tr>\n",
       "  </tbody>\n",
       "</table>\n",
       "</div>"
      ],
      "text/plain": [
       "     0    1     2     3     4     5\n",
       "0  公共拍  公共拍  None  None  None  None"
      ]
     },
     "execution_count": 10,
     "metadata": {},
     "output_type": "execute_result"
    }
   ],
   "source": [
    "df.iloc[0,1] = '公共拍'\n",
    "df"
   ]
  },
  {
   "cell_type": "code",
   "execution_count": 4,
   "metadata": {},
   "outputs": [],
   "source": [
    "import threading\n",
    "from poker_engine import Game, Judge\n",
    "from collections import defaultdict\n",
    "\n",
    "judge = Judge()\n",
    "\n",
    "class GameThread(threading.Thread):\n",
    "    def __init__(self, players_info:dict):\n",
    "        super().__init__()\n",
    "        print('init')\n",
    "        games_info = {}\n",
    "        games_info['names'] = list(players_info.keys())\n",
    "        games_info['small_blind'] = 10\n",
    "        games_info['big_blind'] = 20\n",
    "        games_info['chips'] = players_info\n",
    "        games_info['bet_chip'] = defaultdict(int)\n",
    "        games_info['public_cards'] = []\n",
    "        games_info['all_in_player'] = []\n",
    "        games_info['card_point'] = defaultdict(int)\n",
    "        self.game = Game(games_info,judge)\n",
    "        \n",
    "    def run(self):\n",
    "\n",
    "        pass"
   ]
  },
  {
   "cell_type": "code",
   "execution_count": 7,
   "metadata": {},
   "outputs": [
    {
     "data": {
      "text/plain": [
       "True"
      ]
     },
     "execution_count": 7,
     "metadata": {},
     "output_type": "execute_result"
    }
   ],
   "source": [
    "rooms = defaultdict(dict)\n",
    "rooms['game'] == {}"
   ]
  },
  {
   "cell_type": "code",
   "execution_count": 3,
   "metadata": {},
   "outputs": [
    {
     "name": "stdout",
     "output_type": "stream",
     "text": [
      "init\n"
     ]
    },
    {
     "data": {
      "text/plain": [
       "{'names': ['test1', 'test2'],\n",
       " 'small_blind': 10,\n",
       " 'big_blind': 20,\n",
       " 'chips': {'test1': 990, 'test2': 980},\n",
       " 'bet_chip': defaultdict(int, {'test1': 10, 'test2': 20}),\n",
       " 'public_cards': [],\n",
       " 'all_in_player': [],\n",
       " 'card_point': defaultdict(int, {}),\n",
       " 'hand_cards': defaultdict(list,\n",
       "             {'test1': [(2, 2), (11, 2)], 'test2': [(5, 3), (4, 1)]})}"
      ]
     },
     "execution_count": 3,
     "metadata": {},
     "output_type": "execute_result"
    }
   ],
   "source": [
    "dic = {}\n",
    "def test():\n",
    "    game_thread = GameThread({'test1':1000,'test2':1000})\n",
    "    #game_thread.start()\n",
    "    dic['a']= game_thread\n",
    "test()\n",
    "dic['a'].game.games_info"
   ]
  },
  {
   "cell_type": "code",
   "execution_count": 14,
   "metadata": {},
   "outputs": [
    {
     "data": {
      "text/plain": [
       "{'names': ['test1', 'test2'],\n",
       " 'small_blind': 10,\n",
       " 'big_blind': 20,\n",
       " 'chips': {'test1': 890, 'test2': 980},\n",
       " 'bet_chip': defaultdict(int, {'test1': 110, 'test2': 20}),\n",
       " 'public_cards': [],\n",
       " 'all_in_player': [],\n",
       " 'card_point': defaultdict(int, {}),\n",
       " 'hand_cards': defaultdict(list,\n",
       "             {'test1': [(8, 2), (2, 4)], 'test2': [(12, 1), (9, 2)]})}"
      ]
     },
     "execution_count": 14,
     "metadata": {},
     "output_type": "execute_result"
    }
   ],
   "source": [
    "game_thread.game.round('test1',100)\n",
    "game_thread.game.games_info"
   ]
  },
  {
   "cell_type": "code",
   "execution_count": 15,
   "metadata": {},
   "outputs": [
    {
     "data": {
      "text/plain": [
       "{'names': ['test1', 'test2'],\n",
       " 'small_blind': 10,\n",
       " 'big_blind': 20,\n",
       " 'chips': {'test1': 890, 'test2': 890},\n",
       " 'bet_chip': defaultdict(int, {'test1': 110, 'test2': 110}),\n",
       " 'public_cards': [(11, 3), (12, 4), (6, 1)],\n",
       " 'all_in_player': [],\n",
       " 'card_point': defaultdict(int, {}),\n",
       " 'hand_cards': defaultdict(list,\n",
       "             {'test1': [(8, 2), (2, 4)], 'test2': [(12, 1), (9, 2)]})}"
      ]
     },
     "execution_count": 15,
     "metadata": {},
     "output_type": "execute_result"
    }
   ],
   "source": [
    "game_thread.game.round('test2',90)\n",
    "game_thread.game.games_info"
   ]
  },
  {
   "cell_type": "code",
   "execution_count": 3,
   "metadata": {},
   "outputs": [
    {
     "ename": "AttributeError",
     "evalue": "'collections.defaultdict' object has no attribute 'abc'",
     "output_type": "error",
     "traceback": [
      "\u001b[1;31m---------------------------------------------------------------------------\u001b[0m",
      "\u001b[1;31mAttributeError\u001b[0m                            Traceback (most recent call last)",
      "Cell \u001b[1;32mIn[3], line 5\u001b[0m\n\u001b[0;32m      3\u001b[0m a \u001b[38;5;241m=\u001b[39m defaultdict(\u001b[38;5;28mint\u001b[39m)\n\u001b[0;32m      4\u001b[0m a[\u001b[38;5;124m'\u001b[39m\u001b[38;5;124mabc\u001b[39m\u001b[38;5;124m'\u001b[39m] \u001b[38;5;241m=\u001b[39m \u001b[38;5;241m1\u001b[39m\n\u001b[1;32m----> 5\u001b[0m \u001b[43ma\u001b[49m\u001b[38;5;241;43m.\u001b[39;49m\u001b[43mabc\u001b[49m\n",
      "\u001b[1;31mAttributeError\u001b[0m: 'collections.defaultdict' object has no attribute 'abc'"
     ]
    }
   ],
   "source": [
    "from collections import defaultdict\n",
    "\n",
    "a = defaultdict(int)\n",
    "a['abc'] = 1\n",
    "a.abc"
   ]
  },
  {
   "cell_type": "code",
   "execution_count": 1,
   "metadata": {},
   "outputs": [
    {
     "data": {
      "text/plain": [
       "'room2               '"
      ]
     },
     "execution_count": 1,
     "metadata": {},
     "output_type": "execute_result"
    }
   ],
   "source": [
    "'room2'.ljust(20)"
   ]
  },
  {
   "cell_type": "code",
   "execution_count": 3,
   "metadata": {},
   "outputs": [
    {
     "data": {
      "text/plain": [
       "['房间:room2    人数:2', '房间:room3    人数:3']"
      ]
     },
     "execution_count": 3,
     "metadata": {},
     "output_type": "execute_result"
    }
   ],
   "source": [
    "from collections import defaultdict\n",
    "\n",
    "a = defaultdict(dict)\n",
    "a['room2'] = {'players':[1,2]}\n",
    "a['room3'] = {'players':[1,2,3]}\n",
    "\n",
    "['房间:{}    人数:{}'.format(key, len(value['players'])) for key, value in a.items()]"
   ]
  },
  {
   "cell_type": "code",
   "execution_count": null,
   "metadata": {},
   "outputs": [],
   "source": [
    "req = requests.post(url=url+'login',json={'name':'test'})\n",
    "req.status_code"
   ]
  },
  {
   "cell_type": "code",
   "execution_count": null,
   "metadata": {},
   "outputs": [],
   "source": [
    "req.text"
   ]
  }
 ],
 "metadata": {
  "kernelspec": {
   "display_name": "Python 3",
   "language": "python",
   "name": "python3"
  },
  "language_info": {
   "codemirror_mode": {
    "name": "ipython",
    "version": 3
   },
   "file_extension": ".py",
   "mimetype": "text/x-python",
   "name": "python",
   "nbconvert_exporter": "python",
   "pygments_lexer": "ipython3",
   "version": "3.10.11"
  }
 },
 "nbformat": 4,
 "nbformat_minor": 2
}
